{
 "cells": [
  {
   "cell_type": "code",
   "execution_count": 1,
   "id": "0d2bc657",
   "metadata": {},
   "outputs": [],
   "source": [
    "import numpy as np \n",
    "from scipy.stats import unitary_group\n",
    "import strawberryfields as sf \n",
    "import strawberryfields.ops as ops\n",
    "from chain_rule import get_samples, get_samples_click\n",
    "from thewalrus.quantum import photon_number_mean_vector, mean_clicks\n",
    "from MIS import MIS_IPS\n",
    "from MIS_click import ClickMIS"
   ]
  },
  {
   "cell_type": "markdown",
   "id": "71824be4",
   "metadata": {},
   "source": [
    "## make a gaussian covariance matrix for a GBS experiment"
   ]
  },
  {
   "cell_type": "code",
   "execution_count": 2,
   "id": "e1a205f8",
   "metadata": {},
   "outputs": [],
   "source": [
    "M = 4\n",
    "eng = sf.Engine(backend='gaussian')\n",
    "prog = sf.Program(M)\n",
    "U = unitary_group.rvs(M)\n",
    "\n",
    "r = 1\n",
    "eta = 0.9\n",
    "alpha = 0.1\n",
    "with prog.context as q:\n",
    "    for i in range(M):\n",
    "        ops.Sgate(r) | q[i]\n",
    "        ops.LossChannel(eta) | q[i]\n",
    "    ops.Interferometer(U) | q\n",
    "    \n",
    "state = eng.run(prog).state\n",
    "\n",
    "# get wigner function displacement and covariance\n",
    "mu = state.means()\n",
    "cov = state.cov()"
   ]
  },
  {
   "cell_type": "code",
   "execution_count": 3,
   "id": "0643771b",
   "metadata": {},
   "outputs": [
    {
     "name": "stdout",
     "output_type": "stream",
     "text": [
      "[4 5 0 6]\n",
      "[9 7 1 0]\n",
      "[1 2 0 1]\n",
      "[0 0 3 0]\n",
      "[8 7 4 1]\n",
      "[1 1 3 4]\n",
      "[5 1 1 5]\n",
      "[5 0 5 4]\n",
      "[0 1 0 0]\n",
      "[0 0 1 1]\n"
     ]
    }
   ],
   "source": [
    "# chain rule sampling with PNRDs\n",
    "\n",
    "for sample in get_samples(mu, cov, n_samples=10):\n",
    "    print(sample)"
   ]
  },
  {
   "cell_type": "code",
   "execution_count": 4,
   "id": "8fdc03a8",
   "metadata": {},
   "outputs": [
    {
     "name": "stdout",
     "output_type": "stream",
     "text": [
      "[0 0 1 1]\n",
      "[1 1 0 0]\n",
      "[1 1 1 1]\n",
      "[0 0 0 0]\n",
      "[1 1 1 1]\n",
      "[0 0 0 0]\n",
      "[1 1 1 1]\n",
      "[1 1 0 0]\n",
      "[1 1 0 0]\n",
      "[1 1 0 1]\n"
     ]
    }
   ],
   "source": [
    "# chain rule sampling with threshold detectors\n",
    "\n",
    "for sample in get_samples_click(mu, cov, n_samples=10):\n",
    "    print(sample)"
   ]
  },
  {
   "cell_type": "code",
   "execution_count": 5,
   "id": "015db57d",
   "metadata": {},
   "outputs": [
    {
     "name": "stdout",
     "output_type": "stream",
     "text": [
      "[[0 0 2 2]\n",
      " [1 1 1 1]\n",
      " [0 2 0 2]\n",
      " [0 1 0 3]\n",
      " [2 2 0 0]\n",
      " [2 2 0 0]\n",
      " [0 2 0 2]\n",
      " [2 0 2 0]\n",
      " [2 2 0 0]\n",
      " [0 1 2 1]\n",
      " [0 0 3 1]]\n"
     ]
    }
   ],
   "source": [
    "# MIS with PNRDs\n",
    "N = int(np.round(photon_number_mean_vector(mu, cov)).sum())\n",
    "mis = MIS_IPS(cov, N)\n",
    "mis.run_chain(120)\n",
    "\n",
    "burn_in = 20 \n",
    "thinning_rate = 10\n",
    "\n",
    "print(np.array(mis.chain_patterns[burn_in::thinning_rate]))"
   ]
  },
  {
   "cell_type": "code",
   "execution_count": 6,
   "id": "d2a3c2b1",
   "metadata": {},
   "outputs": [
    {
     "name": "stdout",
     "output_type": "stream",
     "text": [
      "[[1 1 0 0]\n",
      " [0 0 1 1]\n",
      " [0 0 1 1]\n",
      " [0 1 1 0]\n",
      " [0 1 0 1]\n",
      " [1 1 0 0]\n",
      " [1 1 0 0]\n",
      " [1 1 0 0]\n",
      " [1 1 0 0]\n",
      " [1 0 1 0]\n",
      " [0 1 0 1]]\n"
     ]
    }
   ],
   "source": [
    "# MIS with threshold detectors\n",
    "N = int(np.round(mean_clicks(cov)))\n",
    "mis = ClickMIS(cov, N)\n",
    "mis.run_chain(120)\n",
    "\n",
    "burn_in = 20 \n",
    "thinning_rate = 10\n",
    "\n",
    "print(np.array(mis.chain_patterns[burn_in::thinning_rate]))"
   ]
  },
  {
   "cell_type": "code",
   "execution_count": null,
   "id": "3064b004",
   "metadata": {},
   "outputs": [],
   "source": []
  }
 ],
 "metadata": {
  "kernelspec": {
   "display_name": "Python 3",
   "language": "python",
   "name": "python3"
  },
  "language_info": {
   "codemirror_mode": {
    "name": "ipython",
    "version": 3
   },
   "file_extension": ".py",
   "mimetype": "text/x-python",
   "name": "python",
   "nbconvert_exporter": "python",
   "pygments_lexer": "ipython3",
   "version": "3.8.10"
  }
 },
 "nbformat": 4,
 "nbformat_minor": 5
}
